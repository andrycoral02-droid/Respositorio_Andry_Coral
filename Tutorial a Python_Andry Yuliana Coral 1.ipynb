{
 "cells": [
  {
   "cell_type": "markdown",
   "id": "c68ba1a1",
   "metadata": {},
   "source": [
    "# Tutorial Basico: Introducción a Python"
   ]
  },
  {
   "cell_type": "markdown",
   "id": "271ca368",
   "metadata": {},
   "source": [
    "## Introducción"
   ]
  },
  {
   "cell_type": "markdown",
   "id": "850c9d65",
   "metadata": {},
   "source": [
    "De forma introductoria se exploran los siguientes conceptos iniciales:\n",
    "1. Instalación de Visual Studio.\n",
    "\n",
    "2. Abrir e ir a la parte \"_File_\" y luego se selecciona \"_Open File_\" o en \"_Open Folder_\" según como se quiera la organizacón del trabajo por documentos individuales o proyectos guardados en sus respectivas carpetas.\n",
    "\n",
    "3. Al generar su archivo de preferencia; se crea una nueva pestaña que funcionara como una hoja donde se comenzara a desarrollar la información, a esta hoja de trabajo se le conoce como _Notebook_\".\n",
    "\n",
    "4. En la parte \"_+ Markdown_\" o \"_+Python_\" se puede generar las primeras celdas que le permitiran escribir o realizar el codigo correspondiente."
   ]
  },
  {
   "cell_type": "markdown",
   "id": "e17abc05",
   "metadata": {},
   "source": [
    "## Escritura"
   ]
  },
  {
   "cell_type": "markdown",
   "id": "ccb248aa",
   "metadata": {},
   "source": [
    "Para la escritura contamos con el simbolo \"_#_\" que funciona una almoadilla para la escritura. Esta almoadilla determina el nivel de los titulos (Titulo, Subtitulo, tercer titulo,Cuerpo) entre mayor sea el numero de \"_#_\" iniciales menor sera el nivel del texto.\n",
    "\n",
    "#### Ejemplo:\n",
    "\n",
    "Con una \"#\"\n",
    "# Titulo\n",
    "Con dos \"##\"\n",
    "## Subtitulo\n",
    "Con tres \"###\"\n",
    "### Tercer Titulo\n",
    "Con Cuatro \"####\"\n",
    "#### Cuerpo\n",
    "\n",
    "Para enfatizar algo se utilizan \"*\" antes y despúes de la palabra al igual que \"_\" para lograr que el texto quede en cursiva, negrita o ambos.\n",
    "\n",
    "#### Ejemplo:\n",
    "**Titulo**\n",
    "\n",
    "_Subtitulo_\n",
    "\n",
    "**_Texto_**"
   ]
  },
  {
   "cell_type": "markdown",
   "id": "9807cd07",
   "metadata": {},
   "source": [
    "## Listas"
   ]
  },
  {
   "cell_type": "markdown",
   "id": "4eb80541",
   "metadata": {},
   "source": [
    "Existen varios tipos de listas:\n",
    "#### Lista NO Numerada\n",
    "Se puedes utilizar para las viñetas los siguientes simbolos: \"-\" o \"*\" antes de la escritura y el programa ya se encarga de organizarlos.\n",
    "\n",
    "Ejemplo:\n",
    "- Lista 1\n",
    "* Lista 2\n",
    "\n",
    "#### Lista NO Numerada con Anidamiento\n",
    "Asi mismo, se pueden crear listas que no esten numeradas con sublistas o anidadas agragandole un doble espacio.\n",
    "\n",
    "Ejemplo:\n",
    "- Lista 1\n",
    "  - Lista 1.1\n",
    "    - Lista 1.1.1\n",
    "\n",
    "#### Lista Numerada\n",
    "Las listas numeradas tnien el requerimiento de comenzar con el numero \"1.\" despúes de comenzar con ese numero el programa es indiferente de cual numero sea el siguiente y ordenara la lista de forma automatica y continua. es decir, 1,2,3...\n",
    "\n",
    "Ejemplo:\n",
    "1. Primer tema\n",
    "2. Segundo tema\n",
    "3. Tercer tema\n"
   ]
  },
  {
   "cell_type": "markdown",
   "id": "98c4b037",
   "metadata": {},
   "source": [
    "## Ecuaciones y Tipos de Datos"
   ]
  },
  {
   "cell_type": "markdown",
   "id": "7e8e486a",
   "metadata": {},
   "source": [
    "Para utilizar las ecuaciones se utiliza el simbolo \"_$_\" para despues escribir la ecuación correspondiente.\n",
    "\n",
    "Ejemplo:\n",
    "\n",
    "$y=ax+bx+c$.\n",
    "\n",
    "Para realizar las ecuaciones en modo presentación y alineado en el centro se deberan colocar dos \"$\" dejando un espacio antes y despúes de escribir la ecuación.\n",
    "\n",
    "Ejemplo:\n",
    "\n",
    "$$\n",
    "\n",
    "\\int_a^b f(x) \\, dx\n",
    "\n",
    "$$\n",
    "\n",
    "## Variables\n",
    "Las variables son conjuntos de almacenamiento de información, las deben ser guardadas con nombres distintivos que den claridad del conjunto de información que se va a utilizar. Para garantizar las buenas practicas, manipulación y nombramiento de los datos se recomienda lo siguiente:\n",
    "\n",
    "* No use espacio ni guiones en el nombre, se recomienda utilizar \"_\" para el espaciado entre palabras\n",
    "* De claridad entre las mayusculas y las minusculas\n",
    "* No comenzar el nombramiento de la variable con un numero (2025_PIB) en su lugar mezcle los valores alfa numericos (PIB_2025)\n",
    "* No utilizar palabras sueltas como: \"de\",\"el\" o una sola letra como: \"O\" , \"E\"\n",
    "* Para separar una secuencisa, ya sea de numero o enunciados se puuede hacer con \"_\" o con \";\"\n",
    "\n",
    "Existen varios tipos de variables como:\n",
    "\n",
    "### Variables Numericas\n",
    "Dentro de las Variables numericas existen dos tipos:\n",
    "* Variables Numericas Enteras\n",
    "* Variables Floats o con Decimales\n",
    "\n",
    "La distincion con las variables de decimales es el punto \".\" que esta ubicado al final del numero.\n",
    "\n",
    "#### Variables Numericas Enteras"
   ]
  },
  {
   "cell_type": "code",
   "execution_count": null,
   "id": "e98ff68f",
   "metadata": {},
   "outputs": [],
   "source": [
    "Numero_Entero_1 = 1\n",
    "Numero_Entero_2 = 4000\n",
    "Varios_Numeros_Enteros = 1_200_5000"
   ]
  },
  {
   "cell_type": "markdown",
   "id": "2180ccb2",
   "metadata": {},
   "source": [
    "### Variables Numericas Floats o con Decimales"
   ]
  },
  {
   "cell_type": "code",
   "execution_count": 4,
   "id": "e5fe43f1",
   "metadata": {},
   "outputs": [],
   "source": [
    "Variable_con_Decimal = 1.5\n",
    "Variable_Float = 4000.99\n",
    "Varios_Numeros_Float = 1.3"
   ]
  },
  {
   "cell_type": "markdown",
   "id": "d4c95796",
   "metadata": {},
   "source": [
    "#### Contenido de las Variables\n",
    "\n",
    "Al utilizar el nombre \"Numero_Entero\" podemos visualizar el contenido es decir el numero \"1\". Esto es util ya que no permite almacenar grandes volumenes de datos con solo un nombre. Para ver el contenido escribismos el nombre de la variable anteriormente creada:"
   ]
  },
  {
   "cell_type": "code",
   "execution_count": 5,
   "id": "35dccc78",
   "metadata": {},
   "outputs": [
    {
     "data": {
      "text/plain": [
       "1"
      ]
     },
     "execution_count": 5,
     "metadata": {},
     "output_type": "execute_result"
    }
   ],
   "source": [
    "Numero_Entero_1"
   ]
  },
  {
   "cell_type": "markdown",
   "id": "0fe55bfe",
   "metadata": {},
   "source": [
    "A la hora de observar el contenido existen dos metodos, _Llamar la Variable_ o _Imprimir la Variable_ si se utiliza el mecanismo de _Llamar_ se vera unicamente el ultimo resultado; mientras que, si se utiliza el _Print_ se observan todos los datos.\n",
    "\n",
    "Ejemplo:"
   ]
  },
  {
   "cell_type": "code",
   "execution_count": 7,
   "id": "a2eac68f",
   "metadata": {},
   "outputs": [
    {
     "data": {
      "text/plain": [
       "12005000"
      ]
     },
     "execution_count": 7,
     "metadata": {},
     "output_type": "execute_result"
    }
   ],
   "source": [
    "Numero_Entero_1\n",
    "Numero_Entero_2\n",
    "Varios_Numeros_Enteros"
   ]
  },
  {
   "cell_type": "code",
   "execution_count": null,
   "id": "61c1f744",
   "metadata": {},
   "outputs": [],
   "source": [
    "print(Numero_Entero_1)\n",
    "print(Numero_Entero_2)\n",
    "print(Varios_Numeros_Enteros)"
   ]
  },
  {
   "cell_type": "markdown",
   "id": "6a31e6f4",
   "metadata": {},
   "source": [
    "Asi mismo, se puede eliminar una variable con el indicativo \"del\" seguido del nombre de la variable que se desee eliminar:"
   ]
  },
  {
   "cell_type": "code",
   "execution_count": 9,
   "id": "bf7a3de8",
   "metadata": {},
   "outputs": [],
   "source": [
    "del Varios_Numeros_Enteros"
   ]
  },
  {
   "cell_type": "markdown",
   "id": "d1de735b",
   "metadata": {},
   "source": [
    "Se debe tener en cuenta que después de eliminar la variable ya _No se podra_ ni _llamar_ ni _Inprimir_ ya que si se intenta, el programa le dira que hay un error en el sistema."
   ]
  },
  {
   "cell_type": "markdown",
   "id": "f36fc0b1",
   "metadata": {},
   "source": [
    "### Fución Type\n",
    "Para conocer con que tipo de variable estamos trabajando, se utiliza la función \"type\" la cual nos indique que tipo de variable estamos utilizando"
   ]
  },
  {
   "cell_type": "markdown",
   "id": "24714262",
   "metadata": {},
   "source": [
    "### Variables de Texto o Variables String\n",
    "\n",
    "Se puede generar un texto utilizando la variable \"String\" la cual cambia su estructura utilizando o no las \" \" si esta variable se imprime o se llama."
   ]
  },
  {
   "cell_type": "code",
   "execution_count": 6,
   "id": "90e0a4dd",
   "metadata": {},
   "outputs": [],
   "source": [
    "String_Nombre = \"Andry Yuliana\"\n",
    "String_Apellido = \"Coral Lasprilla\""
   ]
  },
  {
   "cell_type": "markdown",
   "id": "5a5fbbf0",
   "metadata": {},
   "source": [
    "### Variables Booleano"
   ]
  },
  {
   "cell_type": "markdown",
   "id": "80d711a6",
   "metadata": {},
   "source": [
    "Son aquellos que nos permiten reconocer caracteristicas que tienen o no los datos \n",
    "\n",
    "ejemplo:"
   ]
  },
  {
   "cell_type": "code",
   "execution_count": 5,
   "id": "6a2df0d5",
   "metadata": {},
   "outputs": [
    {
     "name": "stdout",
     "output_type": "stream",
     "text": [
      "Es mayor: True\n",
      "Es menor: False\n",
      "¿x es mayor que y? False\n",
      "¿x es menor que y? True\n",
      "¿x es igual a y? False\n"
     ]
    }
   ],
   "source": [
    "# Ejemplos de valores booleanos\n",
    "es_mayor = True\n",
    "es_menor = False\n",
    "\n",
    "print(\"Es mayor:\", es_mayor)\n",
    "print(\"Es menor:\", es_menor)\n",
    "\n",
    "# Comparaciones que retornan booleanos\n",
    "x = 10\n",
    "y = 20\n",
    "print(\"¿x es mayor que y?\", x > y)\n",
    "print(\"¿x es menor que y?\", x < y)\n",
    "print(\"¿x es igual a y?\", x == y)"
   ]
  },
  {
   "cell_type": "markdown",
   "id": "6ff92fa0",
   "metadata": {},
   "source": [
    "si se desea saber si una variable cumple con las condicciones que necesitamos para una limpieza de datos u otras caracteristicas se utiliza esta función. Los booleanos son útiles en comparaciones y estructuras condicionales. En el ejemplo, la comparación x > y devuelve False porque 10 no es mayor que 20.\n",
    "\n",
    "Los valores lógicos también se pueden combinar con operadores, por ejemplo:"
   ]
  },
  {
   "cell_type": "code",
   "execution_count": 4,
   "id": "98067ebb",
   "metadata": {},
   "outputs": [
    {
     "name": "stdout",
     "output_type": "stream",
     "text": [
      "AND lógico: False\n",
      "OR lógico: True\n",
      "Negación: False\n"
     ]
    }
   ],
   "source": [
    "x = True\n",
    "y = False\n",
    "\n",
    "print(\"AND lógico:\", x and y)   # Solo True si ambos son True\n",
    "print(\"OR lógico:\", x or y)     # True si al menos uno es True\n",
    "print(\"Negación:\", not x)       # Invierte el valor"
   ]
  },
  {
   "cell_type": "markdown",
   "id": "c26b73c2",
   "metadata": {},
   "source": [
    "## Ecuaciones entre Variables "
   ]
  },
  {
   "cell_type": "markdown",
   "id": "1eaca439",
   "metadata": {},
   "source": [
    "Al igual que las matematicas las variables numericas llevan un orden, para \n",
    "\n",
    "- la suma entre variables se utiliza el simbolo \"+\"  \n",
    "- la resta el simbolo \"-\"\n",
    "- la multiplicación el simpolo \"*\" \n",
    "- la división el simbolo \"/\"\n",
    "- para otras operaciones más avanzadas se debera hacer uso de los paquetes "
   ]
  },
  {
   "cell_type": "code",
   "execution_count": 3,
   "id": "7d6476b7",
   "metadata": {},
   "outputs": [
    {
     "name": "stdout",
     "output_type": "stream",
     "text": [
      "Suma: 13\n",
      "Resta: 7\n",
      "Multiplicación: 30\n",
      "División: 3.3333333333333335\n",
      "División entera: 3\n",
      "Módulo: 1\n",
      "Potencia: 9\n",
      "Suma con float: 12.5\n"
     ]
    }
   ],
   "source": [
    "# Ejemplo con enteros y decimales\n",
    "a = 10\n",
    "b = 3\n",
    "c = 2.5\n",
    "\n",
    "print(\"Suma:\", a + b)\n",
    "print(\"Resta:\", a - b)\n",
    "print(\"Multiplicación:\", a * b)\n",
    "print(\"División:\", a / b)\n",
    "print(\"División entera:\", a // b)  # Resultado sin decimales\n",
    "print(\"Módulo:\", a % b)            # Resto de la división\n",
    "print(\"Potencia:\", b ** 2)         # Exponente\n",
    "print(\"Suma con float:\", a + c)"
   ]
  },
  {
   "cell_type": "markdown",
   "id": "8c93ea6a",
   "metadata": {},
   "source": []
  },
  {
   "cell_type": "markdown",
   "id": "0523875b",
   "metadata": {},
   "source": [
    "#### Operaciones con Cadenas (str)"
   ]
  },
  {
   "cell_type": "markdown",
   "id": "0deac2cd",
   "metadata": {},
   "source": [
    "Las cadenas no se suman con números, pero sí se pueden co-integrar o repetir."
   ]
  },
  {
   "cell_type": "code",
   "execution_count": 2,
   "id": "81fc45a8",
   "metadata": {},
   "outputs": [
    {
     "name": "stdout",
     "output_type": "stream",
     "text": [
      "Concatenación: Hola Python\n",
      "Repetición: HolaHolaHola\n",
      "Primer carácter: H\n",
      "Último carácter: n\n"
     ]
    }
   ],
   "source": [
    "# Ejemplo de operaciones con cadenas\n",
    "texto1 = \"Hola\"\n",
    "texto2 = \"Python\"\n",
    "\n",
    "# Concatenación\n",
    "mensaje = texto1 + \" \" + texto2\n",
    "print(\"Concatenación:\", mensaje)\n",
    "\n",
    "# Repetición\n",
    "eco = texto1 * 3\n",
    "print(\"Repetición:\", eco)\n",
    "\n",
    "# Indexación (acceder a caracteres)\n",
    "print(\"Primer carácter:\", texto1[0])\n",
    "print(\"Último carácter:\", texto2[-1])"
   ]
  },
  {
   "cell_type": "markdown",
   "id": "eb19bf1b",
   "metadata": {},
   "source": [
    "## Estructura de Datos"
   ]
  },
  {
   "cell_type": "markdown",
   "id": "c640a749",
   "metadata": {},
   "source": [
    "### Listas \"[]\"\n",
    "\n",
    "Una lista es una colección ordenada y modificable de elementos. Puede contener números, cadenas u otros objetos. Las listas permiten almacenar varios valores en una sola variable. Son mutables, lo que significa que podemos cambiarlas después de crearlas."
   ]
  },
  {
   "cell_type": "code",
   "execution_count": 1,
   "id": "1c70feaa",
   "metadata": {},
   "outputs": [
    {
     "name": "stdout",
     "output_type": "stream",
     "text": [
      "Lista de números: [1, 2, 3, 4, 5]\n",
      "Lista de nombres: ['Ana', 'Luis', 'Pedro']\n",
      "Primer número: 1\n",
      "Segundo nombre: Luis\n",
      "Lista modificada: [1, 2, 10, 4, 5]\n",
      "Lista con nuevo número: [1, 2, 10, 4, 5, 6]\n",
      "Elemento: 1\n",
      "Elemento: 2\n",
      "Elemento: 10\n",
      "Elemento: 4\n",
      "Elemento: 5\n",
      "Elemento: 6\n"
     ]
    }
   ],
   "source": [
    "#Ejemplo de lista\n",
    "numeros = [1, 2, 3, 4, 5]\n",
    "nombres = [\"Ana\", \"Luis\", \"Pedro\"]\n",
    "\n",
    "print(\"Lista de números:\", numeros)\n",
    "print(\"Lista de nombres:\", nombres)\n",
    "\n",
    "# Acceder a elementos\n",
    "print(\"Primer número:\", numeros[0])\n",
    "print(\"Segundo nombre:\", nombres[1])\n",
    "\n",
    "# Modificar un elemento\n",
    "numeros[2] = 10\n",
    "print(\"Lista modificada:\", numeros)\n",
    "\n",
    "# Agregar un nuevo elemento\n",
    "numeros.append(6)\n",
    "print(\"Lista con nuevo número:\", numeros)\n",
    "\n",
    "# Recorrer la lista\n",
    "for n in numeros:\n",
    "    print(\"Elemento:\", n)"
   ]
  },
  {
   "cell_type": "markdown",
   "id": "750d80fe",
   "metadata": {},
   "source": [
    "### Tuplas \"()\"\n",
    "\n",
    "Las tuplas son similares a las listas, pero no se pueden modificar (son inmutables) toda la información que se encuentra no se puede modificar de ninguna manera.Las tuplas son útiles para datos , como coordenadas, fechas o claves."
   ]
  },
  {
   "cell_type": "code",
   "execution_count": 8,
   "id": "c69958ca",
   "metadata": {},
   "outputs": [
    {
     "name": "stdout",
     "output_type": "stream",
     "text": [
      "Tupla coordenada: (10, 20)\n",
      "Tupla colores: ('rojo', 'verde', 'azul')\n",
      "Primer valor de coordenada: 10\n",
      "Segundo color: verde\n"
     ]
    }
   ],
   "source": [
    "# Ejemplo de tupla\n",
    "coordenada = (10, 20)\n",
    "colores = (\"rojo\", \"verde\", \"azul\")\n",
    "\n",
    "print(\"Tupla coordenada:\", coordenada)\n",
    "print(\"Tupla colores:\", colores)\n",
    "\n",
    "# Acceder a elementos\n",
    "print(\"Primer valor de coordenada:\", coordenada[0])\n",
    "print(\"Segundo color:\", colores[1])\n",
    "\n",
    "# Intentar modificar dará error"
   ]
  },
  {
   "cell_type": "markdown",
   "id": "8e79564e",
   "metadata": {},
   "source": [
    "### Diccionarios\n",
    "\n",
    "Un diccionario almacena pares clave : valor, lo que permite relacionar información.en el ejemplo vease que se asocian ambos conjuntos de informacion: \"Nombre\"- \"Andry\". Los diccionarios permiten manejar datos estructurados de manera más clara, como registros o bases de datos pequeñas."
   ]
  },
  {
   "cell_type": "code",
   "execution_count": null,
   "id": "67b93505",
   "metadata": {},
   "outputs": [],
   "source": [
    "# Ejemplo de diccionario\n",
    "persona = {\n",
    "    \"nombre\": \"Andry\",\n",
    "    \"edad\": 22,\n",
    "    \"ciudad\": \"Medellín\"\n",
    "}\n",
    "\n",
    "print(\"Diccionario persona:\", persona)\n",
    "print(\"Nombre:\", persona[\"nombre\"])\n",
    "print(\"Edad:\", persona[\"edad\"])\n",
    "\n",
    "# Modificar un valor\n",
    "persona[\"edad\"] = 23\n",
    "print(\"Edad actualizada:\", persona[\"edad\"])\n",
    "\n",
    "# Agregar un nuevo par clave-valor\n",
    "persona[\"profesion\"] = \"Economista\"\n",
    "print(\"Diccionario actualizado:\", persona)\n",
    "\n",
    "# Recorrer el diccionario\n",
    "for clave, valor in persona.items():\n",
    "    print(clave, \":\", valor)"
   ]
  },
  {
   "cell_type": "markdown",
   "id": "6dacd7ac",
   "metadata": {},
   "source": [
    "### Conjuntos  \"{}\"\n",
    "\n",
    "Los conjuntos son colecciones de elementos únicos y no ordenados.Los conjuntos eliminan duplicados automáticamente y son útiles para operaciones matemáticas como unión e intersección ya que no se permite ningun valor repetido."
   ]
  },
  {
   "cell_type": "code",
   "execution_count": null,
   "id": "0fd7a7db",
   "metadata": {},
   "outputs": [],
   "source": [
    "# Ejemplo de conjunto\n",
    "frutas = {\"manzana\", \"pera\", \"naranja\", \"manzana\"}\n",
    "print(\"Conjunto frutas:\", frutas)  # 'manzana' no se repite\n",
    "\n",
    "# Agregar un nuevo elemento\n",
    "frutas.add(\"uva\")\n",
    "print(\"Conjunto actualizado:\", frutas)\n",
    "\n",
    "# Operaciones con conjuntos\n",
    "a = {1, 2, 3, 4}\n",
    "b = {3, 4, 5, 6}\n",
    "\n",
    "print(\"Unión:\", a | b)\n",
    "print(\"Intersección:\", a & b)\n",
    "print(\"Diferencia:\", a - b)"
   ]
  },
  {
   "cell_type": "markdown",
   "id": "2175b6b5",
   "metadata": {},
   "source": [
    "### Repeticiones de Codigo o Iteraciones\n",
    "\n",
    "con el comando \"for<variable_interadora> in <iterable (lista, tupla, conjunto, diccionario)> determina la cantidad de veces que se repetira la totalidad del conjunto disponiendo o no de ciertos valores que sean requeridos o no."
   ]
  },
  {
   "cell_type": "code",
   "execution_count": 9,
   "id": "ecbe389e",
   "metadata": {},
   "outputs": [
    {
     "name": "stdout",
     "output_type": "stream",
     "text": [
      "Hola Ana\n",
      "Hola Luis\n",
      "Hola Pedro\n"
     ]
    }
   ],
   "source": [
    "# Una lista es un iterable\n",
    "nombres = [\"Ana\", \"Luis\", \"Pedro\"]\n",
    "\n",
    "for nombre in nombres:\n",
    "    print(\"Hola\", nombre)"
   ]
  }
 ],
 "metadata": {
  "kernelspec": {
   "display_name": "base",
   "language": "python",
   "name": "python3"
  },
  "language_info": {
   "codemirror_mode": {
    "name": "ipython",
    "version": 3
   },
   "file_extension": ".py",
   "mimetype": "text/x-python",
   "name": "python",
   "nbconvert_exporter": "python",
   "pygments_lexer": "ipython3",
   "version": "3.11.7"
  }
 },
 "nbformat": 4,
 "nbformat_minor": 5
}
